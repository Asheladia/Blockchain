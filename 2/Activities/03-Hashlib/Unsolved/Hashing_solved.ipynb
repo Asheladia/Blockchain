{
 "cells": [
  {
   "cell_type": "code",
   "execution_count": 1,
   "metadata": {},
   "outputs": [],
   "source": [
    "import hashlib"
   ]
  },
  {
   "cell_type": "code",
   "execution_count": 2,
   "metadata": {},
   "outputs": [],
   "source": [
    "# output sha256 hash in hexadecimal string format\n",
    "def hash(message):\n",
    "    return hashlib.sha256(message).hexdigest()"
   ]
  },
  {
   "cell_type": "code",
   "execution_count": 6,
   "metadata": {},
   "outputs": [],
   "source": [
    "# modify these messages\n",
    "# note: we include the \"b\" before the string definition in order to represent it as bytes instead of a string\n",
    "message_one = b\"Harlod owes me $100,000, please pay asap\"\n",
    "\n",
    "message_two = b\"Harold owe me $100,000 , please pay at your convenience\""
   ]
  },
  {
   "cell_type": "code",
   "execution_count": 7,
   "metadata": {},
   "outputs": [
    {
     "name": "stdout",
     "output_type": "stream",
     "text": [
      "b'You owe me $100,000, please pay asap' db8a606b80d856a95ebdc802c94da12c990c2a86ca3fc25b5525dc25783ea6ab\n"
     ]
    }
   ],
   "source": [
    "# print both messages and their corresponding hashes\n",
    "print(message_one, hash(message_one))\n",
    "\n"
   ]
  },
  {
   "cell_type": "code",
   "execution_count": 8,
   "metadata": {},
   "outputs": [
    {
     "name": "stdout",
     "output_type": "stream",
     "text": [
      "b'you owe me $100,000 , please pay at your convenience' a1c54b50e4337d3098060b7a9f3921ed908df7b4664981bbf61290cbe41b9f77\n"
     ]
    }
   ],
   "source": [
    "print# print both messages and their corresponding hashes\n",
    "print(message_two, hash(message_two))"
   ]
  },
  {
   "cell_type": "code",
   "execution_count": 9,
   "metadata": {},
   "outputs": [],
   "source": [
    "# compare the hashes in an if/else statement\n",
    "\n",
    "hash_one =b\" I agree to pay Alpa $100,000\"\n",
    "\n",
    "hash_two =b\" I agree to pay Alpa $100,000 on Tuesday\""
   ]
  },
  {
   "cell_type": "code",
   "execution_count": 10,
   "metadata": {},
   "outputs": [
    {
     "name": "stdout",
     "output_type": "stream",
     "text": [
      "\n"
     ]
    }
   ],
   "source": [
    "if ():\n",
    "    print()\n",
    "else:\n",
    "    print()"
   ]
  },
  {
   "cell_type": "code",
   "execution_count": null,
   "metadata": {},
   "outputs": [],
   "source": [
    "# compare the length of the hashes\n",
    "\n",
    "print(len())\n",
    "print(len())"
   ]
  }
 ],
 "metadata": {
  "kernelspec": {
   "display_name": "Python [conda env:alpacaenv] *",
   "language": "python",
   "name": "conda-env-alpacaenv-py"
  },
  "language_info": {
   "codemirror_mode": {
    "name": "ipython",
    "version": 3
   },
   "file_extension": ".py",
   "mimetype": "text/x-python",
   "name": "python",
   "nbconvert_exporter": "python",
   "pygments_lexer": "ipython3",
   "version": "3.7.7"
  }
 },
 "nbformat": 4,
 "nbformat_minor": 4
}
